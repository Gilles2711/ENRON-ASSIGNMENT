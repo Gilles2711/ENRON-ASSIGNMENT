{
  "nbformat": 4,
  "nbformat_minor": 0,
  "metadata": {
    "colab": {
      "name": "elp_number_guess.ipynb",
      "provenance": [],
      "include_colab_link": true
    },
    "kernelspec": {
      "name": "python3",
      "display_name": "Python 3"
    },
    "language_info": {
      "name": "python"
    }
  },
  "cells": [
    {
      "cell_type": "markdown",
      "metadata": {
        "id": "view-in-github",
        "colab_type": "text"
      },
      "source": [
        "<a href=\"https://colab.research.google.com/github/Gilles2711/ENRON-ASSIGNMENT/blob/main/elp_number_guess_Question%203.ipynb\" target=\"_parent\"><img src=\"https://colab.research.google.com/assets/colab-badge.svg\" alt=\"Open In Colab\"/></a>"
      ]
    },
    {
      "cell_type": "code",
      "source": [
        "import random"
      ],
      "metadata": {
        "id": "ZUC7iQvYb1d9"
      },
      "execution_count": 7,
      "outputs": []
    },
    {
      "cell_type": "code",
      "execution_count": null,
      "metadata": {
        "id": "qzvdfufMdkWc"
      },
      "outputs": [],
      "source": [
        "\n",
        "def askForGuess(x):\n",
        "  random_number = random.randint(1, x)\n",
        "  guess = 0\n",
        "  while True:\n",
        "    guess = (input(f'Guess a number between 1 and {x}: ')) \n",
        "\n",
        "    if guess < random_number:\n",
        "      print('Sorry, guess again. Too low.')\n",
        "    elif guess > random_number:\n",
        "      print('Sorry, guess again. Too High')\n",
        "    \n",
        "  print(f'Congratulation, you have guess the number {random_number} correctly.')\n",
        "\n",
        "def player_guess(x):\n",
        " low = 1\n",
        " high = x\n",
        " feedback = ''\n",
        " while feedback != 'c':\n",
        "   if low != high:\n",
        "    guess = random.randint(low, high)\n",
        "   else:\n",
        "    guess = low #could also be high b/c low = high\n",
        "   guess = random.randint(low, high)\n",
        "   feedback = input(f'Is {guess} too high (H), too low (L), or correct (C)').lower()\n",
        "   for i in range(0, 10, 2):\n",
        "    print('you have 10 - i guess left')\n",
        "   if feedback == 'h':\n",
        "     high = guess - 1\n",
        "   elif feedback == 'l':\n",
        "     low = guess + 1\n",
        " print(f'congratulation, player guess your number {guess} correctly')\n",
        "\n",
        "\n",
        "player_guess(100)"
      ]
    }
  ]
}